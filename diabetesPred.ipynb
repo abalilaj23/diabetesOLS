{
 "cells": [
  {
   "cell_type": "markdown",
   "id": "ca7bb5e2-e5e1-4c7e-ae54-db9b3f3d02ec",
   "metadata": {},
   "source": [
    "Diabetes Progression Predictor\n",
    "\n",
    "Diabetes is a chronic disease that alters how the body turns food into energy. Food is normally broken down into simple sugars (glucose) and released into the bloodstream. Insulin (a hormone made by the pancreas) helps the glucose pass from the blood stream into the cells. In diabetic patients, the pancreas can no longer make insulin or cannot adequately use the insulin it does produce. Without careful management, diabetes can lead to dangerous complications.\n",
    "\n",
    "This is a linear regression model used to predict disease progression one year after the baseline. The data comes from a study by  Bradley Efron, Trevor Hastie, Iain Johnstone and Robert Tibshirani (2004) titled \"Least Angle Regression,\" Annals of Statistics. It is accesible here: Source URL: https://www4.stat.ncsu.edu/~boos/var.select/diabetes.html Data URL: https://www4.stat.ncsu.edu/~boos/var.select/diabetes.tab.txt Note: The Data URL mentioned-above is obtained from the source URL. The source URL provides detailed information about the dataset, variables and also reference links including the dataset link.\n",
    "\n",
    "The dataset containts n=422 observations and ten baseline variables:\n",
    "\n",
    "age: age in years\n",
    "sex: sex\n",
    "bmi: body mass index\n",
    "bp: average blood pressure\n",
    "s1: tc, total serum cholesterol\n",
    "s2: ldl, low-density lipoproteins\n",
    "s3: hdl, high-density lipoproteins\n",
    "s4: tch, total cholesterol / HDL\n",
    "s5: ltg, possibly log of serum triglycerides level\n",
    "s6: glu, blood sugar level\n",
    "\n",
    "Data Set Characteristics Number of Instances: 442 Number of Attributes First 10 columns are numeric predictive values \n",
    "Target: Column 11 is a quantitative measure of disease progression one year after baseline Attribute Information.It is the variable of interest. \n"
   ]
  },
  {
   "cell_type": "markdown",
   "id": "8dc4e95a-825a-4c74-b520-d406ab5eda22",
   "metadata": {},
   "source": [
    "Diabetes Progression Predictor: a MLR Model "
   ]
  },
  {
   "cell_type": "code",
   "execution_count": 1,
   "id": "b7007075-e833-459d-a486-99a7bb98e828",
   "metadata": {},
   "outputs": [],
   "source": [
    "#Import tools \n",
    "import numpy as np\n",
    "import pandas as pd\n",
    "import matplotlib.pyplot as plt\n",
    "import statsmodels.api as sm\n",
    "from statsmodels.formula.api import ols\n",
    "from scipy.stats import norm\n",
    "from sklearn.model_selection import train_test_split\n",
    "from sklearn.metrics import r2_score\n",
    "from sklearn import datasets "
   ]
  },
  {
   "cell_type": "code",
   "execution_count": 4,
   "id": "f9c6706f-8062-4d78-bb9e-a2df5d9b5c68",
   "metadata": {},
   "outputs": [
    {
     "name": "stdout",
     "output_type": "stream",
     "text": [
      "   AGE  SEX   BMI     BP   S1     S2    S3   S4      S5  S6    Y\n",
      "0   59    2  32.1  101.0  157   93.2  38.0  4.0  4.8598  87  151\n",
      "1   48    1  21.6   87.0  183  103.2  70.0  3.0  3.8918  69   75\n",
      "2   72    2  30.5   93.0  156   93.6  41.0  4.0  4.6728  85  141\n",
      "3   24    1  25.3   84.0  198  131.4  40.0  5.0  4.8903  89  206\n",
      "4   50    1  23.0  101.0  192  125.4  52.0  4.0  4.2905  80  135\n",
      "     AGE  SEX   BMI      BP   S1     S2    S3    S4      S5   S6    Y\n",
      "437   60    2  28.2  112.00  185  113.8  42.0  4.00  4.9836   93  178\n",
      "438   47    2  24.9   75.00  225  166.0  42.0  5.00  4.4427  102  104\n",
      "439   60    2  24.9   99.67  162  106.6  43.0  3.77  4.1271   95  132\n",
      "440   36    1  30.0   95.00  201  125.2  42.0  4.79  5.1299   85  220\n",
      "441   36    1  19.6   71.00  250  133.2  97.0  3.00  4.5951   92   57\n"
     ]
    }
   ],
   "source": [
    "#Use this URL to read in the data into a pandas dataframe called \"df\".\n",
    "#Hint: set sep=\"\\t\" when reading in the csv file.\n",
    "df = pd.read_csv(\"https://www4.stat.ncsu.edu/~boos/var.select/diabetes.tab.txt\", sep = \"\\t\")\n",
    "print(df.head())\n",
    "print(df.tail())"
   ]
  },
  {
   "cell_type": "code",
   "execution_count": 5,
   "id": "980b1a71-07cb-48f4-b33b-3ad8126fad0f",
   "metadata": {},
   "outputs": [
    {
     "name": "stdout",
     "output_type": "stream",
     "text": [
      "<class 'pandas.core.frame.DataFrame'>\n",
      "RangeIndex: 442 entries, 0 to 441\n",
      "Data columns (total 11 columns):\n",
      " #   Column  Non-Null Count  Dtype  \n",
      "---  ------  --------------  -----  \n",
      " 0   AGE     442 non-null    int64  \n",
      " 1   SEX     442 non-null    int64  \n",
      " 2   BMI     442 non-null    float64\n",
      " 3   BP      442 non-null    float64\n",
      " 4   S1      442 non-null    int64  \n",
      " 5   S2      442 non-null    float64\n",
      " 6   S3      442 non-null    float64\n",
      " 7   S4      442 non-null    float64\n",
      " 8   S5      442 non-null    float64\n",
      " 9   S6      442 non-null    int64  \n",
      " 10  Y       442 non-null    int64  \n",
      "dtypes: float64(6), int64(5)\n",
      "memory usage: 38.1 KB\n"
     ]
    }
   ],
   "source": [
    "#Get some information on the variables\n",
    "df.info()"
   ]
  },
  {
   "cell_type": "code",
   "execution_count": 7,
   "id": "d8c7607a-a94a-42b5-a86c-fb5fa731d50e",
   "metadata": {},
   "outputs": [
    {
     "name": "stdout",
     "output_type": "stream",
     "text": [
      "<class 'pandas.core.frame.DataFrame'>\n",
      "RangeIndex: 442 entries, 0 to 441\n",
      "Data columns (total 11 columns):\n",
      " #   Column  Non-Null Count  Dtype   \n",
      "---  ------  --------------  -----   \n",
      " 0   AGE     442 non-null    int64   \n",
      " 1   SEX     442 non-null    category\n",
      " 2   BMI     442 non-null    float64 \n",
      " 3   BP      442 non-null    float64 \n",
      " 4   S1      442 non-null    int64   \n",
      " 5   S2      442 non-null    float64 \n",
      " 6   S3      442 non-null    float64 \n",
      " 7   S4      442 non-null    float64 \n",
      " 8   S5      442 non-null    float64 \n",
      " 9   S6      442 non-null    int64   \n",
      " 10  Y       442 non-null    int64   \n",
      "dtypes: category(1), float64(6), int64(4)\n",
      "memory usage: 35.2 KB\n"
     ]
    }
   ],
   "source": [
    "#Convert SEX to a categorical varibale, it should not be an integer\n",
    "categorical_variables = [\"SEX\"]\n",
    "df[categorical_variables] = df[categorical_variables].astype(\"category\")\n",
    "df.info()\n"
   ]
  },
  {
   "cell_type": "code",
   "execution_count": 9,
   "id": "8a586024-5d0a-4ad2-8d04-2433ea1d3683",
   "metadata": {},
   "outputs": [
    {
     "name": "stdout",
     "output_type": "stream",
     "text": [
      "               AGE    SEX         BMI          BP          S1          S2  \\\n",
      "count   442.000000  442.0  442.000000  442.000000  442.000000  442.000000   \n",
      "unique         NaN    2.0         NaN         NaN         NaN         NaN   \n",
      "top            NaN    1.0         NaN         NaN         NaN         NaN   \n",
      "freq           NaN  235.0         NaN         NaN         NaN         NaN   \n",
      "mean     48.518100    NaN   26.375792   94.647014  189.140271  115.439140   \n",
      "std      13.109028    NaN    4.418122   13.831283   34.608052   30.413081   \n",
      "min      19.000000    NaN   18.000000   62.000000   97.000000   41.600000   \n",
      "25%      38.250000    NaN   23.200000   84.000000  164.250000   96.050000   \n",
      "50%      50.000000    NaN   25.700000   93.000000  186.000000  113.000000   \n",
      "75%      59.000000    NaN   29.275000  105.000000  209.750000  134.500000   \n",
      "max      79.000000    NaN   42.200000  133.000000  301.000000  242.400000   \n",
      "\n",
      "                S3          S4          S5          S6           Y  \n",
      "count   442.000000  442.000000  442.000000  442.000000  442.000000  \n",
      "unique         NaN         NaN         NaN         NaN         NaN  \n",
      "top            NaN         NaN         NaN         NaN         NaN  \n",
      "freq           NaN         NaN         NaN         NaN         NaN  \n",
      "mean     49.788462    4.070249    4.641411   91.260181  152.133484  \n",
      "std      12.934202    1.290450    0.522391   11.496335   77.093005  \n",
      "min      22.000000    2.000000    3.258100   58.000000   25.000000  \n",
      "25%      40.250000    3.000000    4.276700   83.250000   87.000000  \n",
      "50%      48.000000    4.000000    4.620050   91.000000  140.500000  \n",
      "75%      57.750000    5.000000    4.997200   98.000000  211.500000  \n",
      "max      99.000000    9.090000    6.107000  124.000000  346.000000  \n"
     ]
    }
   ],
   "source": [
    "#Lets examine the data\n",
    "dfDes = df.describe(include = \"all\")\n",
    "print(dfDes)"
   ]
  },
  {
   "cell_type": "code",
   "execution_count": 10,
   "id": "3d84b7aa-76d3-4495-84ab-1373c09e5b45",
   "metadata": {},
   "outputs": [],
   "source": [
    "#Split data set into test (0.3) and train (0.7) with a random state of 42.\n",
    "df_train, df_test = train_test_split(df, test_size= 0.3, random_state = 42)"
   ]
  },
  {
   "cell_type": "code",
   "execution_count": 12,
   "id": "ebba703a-33ba-4d54-b228-bfcfdb715eac",
   "metadata": {},
   "outputs": [
    {
     "name": "stdout",
     "output_type": "stream",
     "text": [
      "                            OLS Regression Results                            \n",
      "==============================================================================\n",
      "Dep. Variable:                      Y   R-squared:                       0.524\n",
      "Model:                            OLS   Adj. R-squared:                  0.508\n",
      "Method:                 Least Squares   F-statistic:                     32.86\n",
      "Date:                Fri, 31 Jan 2025   Prob (F-statistic):           1.37e-42\n",
      "Time:                        11:26:24   Log-Likelihood:                -1671.5\n",
      "No. Observations:                 309   AIC:                             3365.\n",
      "Df Residuals:                     298   BIC:                             3406.\n",
      "Df Model:                          10                                         \n",
      "Covariance Type:            nonrobust                                         \n",
      "==============================================================================\n",
      "                 coef    std err          t      P>|t|      [0.025      0.975]\n",
      "------------------------------------------------------------------------------\n",
      "Intercept   -341.2349     78.615     -4.341      0.000    -495.946    -186.524\n",
      "SEX[T.2]     -24.9463      6.987     -3.570      0.000     -38.697     -11.196\n",
      "AGE            0.1063      0.270      0.394      0.694      -0.425       0.637\n",
      "BMI            5.8881      0.877      6.717      0.000       4.163       7.613\n",
      "BP             1.3372      0.268      4.998      0.000       0.811       1.864\n",
      "S1            -1.2411      0.659     -1.882      0.061      -2.539       0.057\n",
      "S2             0.7935      0.604      1.314      0.190      -0.395       1.982\n",
      "S3             0.4460      0.904      0.493      0.622      -1.333       2.226\n",
      "S4            10.6288      7.255      1.465      0.144      -3.649      24.906\n",
      "S5            60.0963     18.952      3.171      0.002      22.800      97.393\n",
      "S6             0.1714      0.330      0.519      0.604      -0.479       0.822\n",
      "==============================================================================\n",
      "Omnibus:                        1.511   Durbin-Watson:                   1.764\n",
      "Prob(Omnibus):                  0.470   Jarque-Bera (JB):                1.417\n",
      "Skew:                           0.056   Prob(JB):                        0.492\n",
      "Kurtosis:                       2.688   Cond. No.                     6.98e+03\n",
      "==============================================================================\n",
      "\n",
      "Notes:\n",
      "[1] Standard Errors assume that the covariance matrix of the errors is correctly specified.\n",
      "[2] The condition number is large, 6.98e+03. This might indicate that there are\n",
      "strong multicollinearity or other numerical problems.\n"
     ]
    }
   ],
   "source": [
    "#Fit Multilinear OLS regression model to the train dataset. \n",
    "est_train = ols(formula= \"Y ~ AGE + SEX + BMI + BP+ S1 + S2 + S3 + S4 + S5 +S6\", data = df_train).fit()\n",
    "print(est_train.summary())"
   ]
  },
  {
   "cell_type": "code",
   "execution_count": null,
   "id": "cc1a00d5-a34e-4fb4-ad7d-af54659922be",
   "metadata": {},
   "outputs": [],
   "source": [
    "#Remove the nonsignificant coeficient (p> 0.05) and run the model again with only variables with significant coeficient (p<0.05)"
   ]
  },
  {
   "cell_type": "code",
   "execution_count": 14,
   "id": "2f76ae25-8be6-40e1-a148-94b6d2919f7a",
   "metadata": {},
   "outputs": [
    {
     "name": "stdout",
     "output_type": "stream",
     "text": [
      "                            OLS Regression Results                            \n",
      "==============================================================================\n",
      "Dep. Variable:                      Y   R-squared:                       0.481\n",
      "Model:                            OLS   Adj. R-squared:                  0.474\n",
      "Method:                 Least Squares   F-statistic:                     70.44\n",
      "Date:                Fri, 31 Jan 2025   Prob (F-statistic):           3.76e-42\n",
      "Time:                        11:30:04   Log-Likelihood:                -1685.0\n",
      "No. Observations:                 309   AIC:                             3380.\n",
      "Df Residuals:                     304   BIC:                             3399.\n",
      "Df Model:                           4                                         \n",
      "Covariance Type:            nonrobust                                         \n",
      "==============================================================================\n",
      "                 coef    std err          t      P>|t|      [0.025      0.975]\n",
      "------------------------------------------------------------------------------\n",
      "Intercept   -332.2349     31.853    -10.430      0.000    -394.915    -269.555\n",
      "SEX[T.2]     -12.8661      6.602     -1.949      0.052     -25.858       0.126\n",
      "BMI            7.1491      0.846      8.451      0.000       5.485       8.814\n",
      "BP             1.1484      0.262      4.390      0.000       0.634       1.663\n",
      "S5            41.3134      7.113      5.808      0.000      27.317      55.310\n",
      "==============================================================================\n",
      "Omnibus:                        5.146   Durbin-Watson:                   1.762\n",
      "Prob(Omnibus):                  0.076   Jarque-Bera (JB):                4.192\n",
      "Skew:                           0.187   Prob(JB):                        0.123\n",
      "Kurtosis:                       2.569   Cond. No.                         990.\n",
      "==============================================================================\n",
      "\n",
      "Notes:\n",
      "[1] Standard Errors assume that the covariance matrix of the errors is correctly specified.\n",
      "Intercept   -332.234893\n",
      "SEX[T.2]     -12.866148\n",
      "BMI            7.149076\n",
      "BP             1.148400\n",
      "S5            41.313402\n",
      "dtype: float64\n"
     ]
    }
   ],
   "source": [
    "est_train = ols(formula = \"Y~ SEX + BMI + BP + S5\", data = df_train). fit()\n",
    "print(est_train. summary())\n",
    "print(est_train.params)"
   ]
  },
  {
   "cell_type": "code",
   "execution_count": 15,
   "id": "f6c9c66e-4ad0-48f6-9e50-0ed6da9e7838",
   "metadata": {},
   "outputs": [
    {
     "name": "stdout",
     "output_type": "stream",
     "text": [
      "OOS R-squared: 0.48587882336937604\n"
     ]
    }
   ],
   "source": [
    "#Time to test our model with the test data to make predictions  on the test data and to measure the R^2\n",
    "test_pred = est_train.predict(df_test)\n",
    "r2 = r2_score(df_test[\"Y\"], test_pred)\n",
    "print(\"OOS R-squared: \" + str(r2))\n"
   ]
  },
  {
   "cell_type": "markdown",
   "id": "f38a1335-15a9-41c6-b3e6-dcf70b4db955",
   "metadata": {},
   "source": [
    "Conclusion: \n",
    "R^2 is pretty similar for both train and test data. This means that there is not much overfitting going on in the model. Good predictors of diabetes progression are SEX, BMI, BP, and S5 (log of tryglicerides). Stay Healthy!!!"
   ]
  }
 ],
 "metadata": {
  "kernelspec": {
   "display_name": "Python (my_env)",
   "language": "python",
   "name": "my_env"
  },
  "language_info": {
   "codemirror_mode": {
    "name": "ipython",
    "version": 3
   },
   "file_extension": ".py",
   "mimetype": "text/x-python",
   "name": "python",
   "nbconvert_exporter": "python",
   "pygments_lexer": "ipython3",
   "version": "3.11.11"
  }
 },
 "nbformat": 4,
 "nbformat_minor": 5
}
